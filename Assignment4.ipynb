{
  "nbformat": 4,
  "nbformat_minor": 0,
  "metadata": {
    "colab": {
      "provenance": []
    },
    "kernelspec": {
      "name": "python3",
      "display_name": "Python 3"
    },
    "language_info": {
      "name": "python"
    }
  },
  "cells": [
    {
      "cell_type": "code",
      "execution_count": 1,
      "metadata": {
        "colab": {
          "base_uri": "https://localhost:8080/"
        },
        "id": "ZzkWwEaHsnLw",
        "outputId": "6768d500-f7ac-42c0-ef7f-0a88e07da7a8"
      },
      "outputs": [
        {
          "output_type": "stream",
          "name": "stdout",
          "text": [
            "Enter the elements of the list:  1 2 3 4 5\n",
            "Alternate elements of the list are:\n",
            "1\n",
            "3\n",
            "5\n"
          ]
        }
      ],
      "source": [
        "#1\n",
        "x=input(\"Enter the elements of the list: \")\n",
        "elements = x.split()\n",
        "alternate_elements = elements[::2]\n",
        "print(\"Alternate elements of the list are:\")\n",
        "for element in alternate_elements:\n",
        "    print(element)"
      ]
    },
    {
      "cell_type": "code",
      "source": [
        "#2\n",
        "user_input = input(\"Enter the elements of the list separated by spaces: \")\n",
        "\n",
        "elements = user_input.split()\n",
        "reversed_elements = elements[::-1]\n",
        "print(\"Reversed list:\")\n",
        "for element in reversed_elements:\n",
        "    print(element)\n"
      ],
      "metadata": {
        "colab": {
          "base_uri": "https://localhost:8080/"
        },
        "id": "9nGvurj1suv0",
        "outputId": "2abf590e-7e5d-4838-d795-37ce2301a36e"
      },
      "execution_count": 3,
      "outputs": [
        {
          "output_type": "stream",
          "name": "stdout",
          "text": [
            "Enter the elements of the list separated by spaces: 1 2 3 4 5\n",
            "Reversed list:\n",
            "5\n",
            "4\n",
            "3\n",
            "2\n",
            "1\n"
          ]
        }
      ]
    },
    {
      "cell_type": "code",
      "source": [
        "#3\n",
        "def largest():\n",
        "    user_input = input(\"Please enter numbers separated by spaces: \")\n",
        "    number_strings = user_input.split()\n",
        "    numbers = [int(num) for num in number_strings]\n",
        "    if not numbers:\n",
        "        print(\"No numbers were entered.\")\n",
        "        return\n",
        "\n",
        "    largest_number = numbers[0]\n",
        "    for num in numbers:\n",
        "        if num > largest_number:\n",
        "            largest_number = num\n",
        "\n",
        "    print(\"The largest number is:\", largest_number)\n",
        "\n",
        "largest()\n"
      ],
      "metadata": {
        "colab": {
          "base_uri": "https://localhost:8080/"
        },
        "id": "5xHyz_yYtKBo",
        "outputId": "8a181e2f-17c9-4943-8455-d1d19f02cc1f"
      },
      "execution_count": 5,
      "outputs": [
        {
          "output_type": "stream",
          "name": "stdout",
          "text": [
            "Please enter numbers separated by spaces: 10 5 4 8 3\n",
            "The largest number is: 10\n"
          ]
        }
      ]
    },
    {
      "cell_type": "code",
      "source": [
        "#4\n",
        "def rotated():\n",
        "\n",
        "    user_input = input(\"Please enter the elements of the list separated by spaces: \")\n",
        "    elements = user_input.split()\n",
        "    if len(elements) <= 1:\n",
        "        print(\"Rotated list:\", \" \".join(elements))\n",
        "        return\n",
        "\n",
        "    last_element = elements[-1]\n",
        "    for i in range(len(elements) - 1, 0, -1):\n",
        "        elements[i] = elements[i - 1]\n",
        "\n",
        "    elements[0] = last_element\n",
        "    print(\"Rotated list:\", \" \".join(elements))\n",
        "\n",
        "rotated()"
      ],
      "metadata": {
        "colab": {
          "base_uri": "https://localhost:8080/"
        },
        "id": "cz1DJHVLuTqm",
        "outputId": "6a5c8328-1aa1-4078-c08e-a034b8e34897"
      },
      "execution_count": 6,
      "outputs": [
        {
          "output_type": "stream",
          "name": "stdout",
          "text": [
            "Please enter the elements of the list separated by spaces: 1 2 3 4 5\n",
            "Rotated list: 5 1 2 3 4\n"
          ]
        }
      ]
    },
    {
      "cell_type": "code",
      "source": [
        "#5\n",
        "def modified():\n",
        "    og_string = input(\"Please enter a string: \")\n",
        "    word_to_remove = input(\"Please enter the word to remove: \")\n",
        "\n",
        "    words = og_string.split()\n",
        "    fil_words = [word for word in words if word != word_to_remove]\n",
        "    mod_string = ' '.join(fil_words)\n",
        "\n",
        "    print(\"Modified string:\", mod_string)\n",
        "\n",
        "modified()"
      ],
      "metadata": {
        "colab": {
          "base_uri": "https://localhost:8080/"
        },
        "id": "LKY7Jfdvuyqd",
        "outputId": "de0e236c-219f-4bba-8acc-1cc42e1ea9de"
      },
      "execution_count": 7,
      "outputs": [
        {
          "output_type": "stream",
          "name": "stdout",
          "text": [
            "Please enter a string: samia ilyas bscs fast uni\n",
            "Please enter the word to remove: bscs\n",
            "Modified string: samia ilyas fast uni\n"
          ]
        }
      ]
    },
    {
      "cell_type": "code",
      "source": [
        "#6\n",
        "from datetime import datetime\n",
        "\n",
        "def formatted():\n",
        "    date_input = input(\"Enter a date in the format mm/dd/yyyy: \")\n",
        "\n",
        "    try:\n",
        "        date_object = datetime.strptime(date_input, \"%m/%d/%Y\")\n",
        "        formatted = date_object.strftime(\"%B %d, %Y\")\n",
        "        print(\"Formatted date:\", formatted)\n",
        "\n",
        "    except ValueError:\n",
        "        print(\"Invalid date format. Enter the date in mm/dd/yyyy format.\")\n",
        "\n",
        "formatted()"
      ],
      "metadata": {
        "colab": {
          "base_uri": "https://localhost:8080/"
        },
        "id": "sUbrofBIvQDi",
        "outputId": "3b41204b-6437-4d6b-e0ce-bfb5e2c33051"
      },
      "execution_count": 10,
      "outputs": [
        {
          "output_type": "stream",
          "name": "stdout",
          "text": [
            "Enter a date in the format mm/dd/yyyy: 10/15/1999\n",
            "Formatted date: October 15, 1999\n"
          ]
        }
      ]
    },
    {
      "cell_type": "code",
      "source": [
        "#7\n",
        "def capitalise_words(sentence):\n",
        "    capitalised_sentence = sentence.title()\n",
        "    return capitalised_sentence\n",
        "\n",
        "def capitalised():\n",
        "    sentence = input(\"Please enter a sentence: \")\n",
        "    result = capitalise_words(sentence)\n",
        "    print(\"Capitalised Sentence:\", result)\n",
        "\n",
        "capitalised()\n"
      ],
      "metadata": {
        "colab": {
          "base_uri": "https://localhost:8080/"
        },
        "id": "AdCiy4XMwsRS",
        "outputId": "3aa90b1a-50f5-4d61-be4e-c732693b367a"
      },
      "execution_count": 13,
      "outputs": [
        {
          "output_type": "stream",
          "name": "stdout",
          "text": [
            "Please enter a sentence: samia ilyas\n",
            "Capitalized Sentence: Samia Ilyas\n"
          ]
        }
      ]
    },
    {
      "cell_type": "code",
      "source": [
        "#8\n",
        "m = int(input(\"Enter the number of rows (m): \"))\n",
        "n = int(input(\"Enter the number of columns (n): \"))\n",
        "matrix = []\n",
        "\n",
        "for i in range(m):\n",
        "    row = input(f\"Enter {n} numbers for row {i + 1} separated by spaces: \")\n",
        "    matrix.append([int(x) for x in row.split()])\n",
        "\n",
        "print(\"The input matrix is:\")\n",
        "for i, row in enumerate(matrix):\n",
        "    row_sum = sum(row)\n",
        "    print(' '.join(map(str, row)), f\"Sum of row {i + 1} = {row_sum}\")"
      ],
      "metadata": {
        "colab": {
          "base_uri": "https://localhost:8080/"
        },
        "id": "fnLH2LMCxXp4",
        "outputId": "8b9ee6b7-6618-4948-fa07-91989299d21c"
      },
      "execution_count": 14,
      "outputs": [
        {
          "output_type": "stream",
          "name": "stdout",
          "text": [
            "Enter the number of rows (m): 4\n",
            "Enter the number of columns (n): 4\n",
            "Enter 4 numbers for row 1 separated by spaces: 1 2 3 4\n",
            "Enter 4 numbers for row 2 separated by spaces: 2 3 4 1\n",
            "Enter 4 numbers for row 3 separated by spaces: 3 4 1 2\n",
            "Enter 4 numbers for row 4 separated by spaces: 4 1 2 3\n",
            "The input matrix is:\n",
            "1 2 3 4 Sum of row 1 = 10\n",
            "2 3 4 1 Sum of row 2 = 10\n",
            "3 4 1 2 Sum of row 3 = 10\n",
            "4 1 2 3 Sum of row 4 = 10\n"
          ]
        }
      ]
    },
    {
      "cell_type": "code",
      "source": [
        "#9\n",
        "m1 = [[1,2,3], [4,5,6]]\n",
        "m2 = [[7,8,9], [10,11,12]]\n",
        "\n",
        "if len(m1) != len(B) or len(m1[0]) != len(m2[0]):\n",
        "    print(\"Error!\")\n",
        "else:\n",
        "    C = []\n",
        "\n",
        "    for i in range(len(m1)):\n",
        "        temp = []\n",
        "        for j in range(len(m1[0])):\n",
        "            temp.append(m1[i][j] + m2[i][j])\n",
        "        C.append(temp)\n",
        "\n",
        "    print(\"Matrix sum:\")\n",
        "    for row in C:\n",
        "        print(row)\n"
      ],
      "metadata": {
        "colab": {
          "base_uri": "https://localhost:8080/"
        },
        "id": "v2k2BQnwxwRy",
        "outputId": "2cc20aee-2c63-47af-8bf9-2cb870914b9e"
      },
      "execution_count": 16,
      "outputs": [
        {
          "output_type": "stream",
          "name": "stdout",
          "text": [
            "Matrix sum:\n",
            "[8, 10, 12]\n",
            "[14, 16, 18]\n"
          ]
        }
      ]
    },
    {
      "cell_type": "markdown",
      "source": [
        "# **LOOPS**"
      ],
      "metadata": {
        "id": "pYung0dByuoA"
      }
    },
    {
      "cell_type": "code",
      "source": [
        "#1\n",
        "for number in range(1, 11):\n",
        "        print(number)"
      ],
      "metadata": {
        "colab": {
          "base_uri": "https://localhost:8080/"
        },
        "id": "pIBnwoYfyr5S",
        "outputId": "f6c668a4-f49a-4d76-f5aa-7975d6463159"
      },
      "execution_count": 17,
      "outputs": [
        {
          "output_type": "stream",
          "name": "stdout",
          "text": [
            "1\n",
            "2\n",
            "3\n",
            "4\n",
            "5\n",
            "6\n",
            "7\n",
            "8\n",
            "9\n",
            "10\n"
          ]
        }
      ]
    },
    {
      "cell_type": "code",
      "source": [
        "#2\n",
        "i = 20\n",
        "while i > 0:\n",
        "    print(i)\n",
        "    i -= 1"
      ],
      "metadata": {
        "colab": {
          "base_uri": "https://localhost:8080/"
        },
        "id": "PAumIAuky-lq",
        "outputId": "b1b9fd67-e374-4026-877b-25f6ca0b1184"
      },
      "execution_count": 19,
      "outputs": [
        {
          "output_type": "stream",
          "name": "stdout",
          "text": [
            "20\n",
            "19\n",
            "18\n",
            "17\n",
            "16\n",
            "15\n",
            "14\n",
            "13\n",
            "12\n",
            "11\n",
            "10\n",
            "9\n",
            "8\n",
            "7\n",
            "6\n",
            "5\n",
            "4\n",
            "3\n",
            "2\n",
            "1\n"
          ]
        }
      ]
    },
    {
      "cell_type": "code",
      "source": [
        "#3\n",
        "for i in range(1, 11):\n",
        "    if i % 2 == 0:\n",
        "        print(i)"
      ],
      "metadata": {
        "colab": {
          "base_uri": "https://localhost:8080/"
        },
        "id": "VME3D1SHzKtS",
        "outputId": "bc1c066f-acc1-469f-967d-acd2abd9be85"
      },
      "execution_count": 21,
      "outputs": [
        {
          "output_type": "stream",
          "name": "stdout",
          "text": [
            "2\n",
            "4\n",
            "6\n",
            "8\n",
            "10\n"
          ]
        }
      ]
    },
    {
      "cell_type": "code",
      "source": [
        "#4\n",
        "n = int(input(\"Enter a number: \"))\n",
        "for i in range(1, n + 1):\n",
        "    print(i)"
      ],
      "metadata": {
        "colab": {
          "base_uri": "https://localhost:8080/"
        },
        "id": "9SQCn43kzpS1",
        "outputId": "654c872a-4503-470c-9af0-dec6a3bab289"
      },
      "execution_count": 24,
      "outputs": [
        {
          "output_type": "stream",
          "name": "stdout",
          "text": [
            "Enter a number: 5\n",
            "1\n",
            "2\n",
            "3\n",
            "4\n",
            "5\n"
          ]
        }
      ]
    },
    {
      "cell_type": "code",
      "source": [
        "#5\n",
        "n = int(input(\"Enter a number: \"))\n",
        "for i in range(1, n + 1):\n",
        "    if i % 2 == 1:\n",
        "        print(i)"
      ],
      "metadata": {
        "colab": {
          "base_uri": "https://localhost:8080/"
        },
        "id": "YkgdBxlOz7OD",
        "outputId": "0ce41d87-47ca-4f7d-807d-986e2b95f94e"
      },
      "execution_count": 26,
      "outputs": [
        {
          "output_type": "stream",
          "name": "stdout",
          "text": [
            "Enter a number: 5\n",
            "1\n",
            "3\n",
            "5\n"
          ]
        }
      ]
    },
    {
      "cell_type": "code",
      "source": [
        "#6\n",
        "for i in range(5):\n",
        "  print(\"Happy Birthday!\")"
      ],
      "metadata": {
        "colab": {
          "base_uri": "https://localhost:8080/"
        },
        "id": "nmR6Sdsk0I7j",
        "outputId": "7d3fa35a-db80-4558-de9b-f697f488f945"
      },
      "execution_count": 28,
      "outputs": [
        {
          "output_type": "stream",
          "name": "stdout",
          "text": [
            "Happy Birthday!\n",
            "Happy Birthday!\n",
            "Happy Birthday!\n",
            "Happy Birthday!\n",
            "Happy Birthday!\n"
          ]
        }
      ]
    },
    {
      "cell_type": "code",
      "source": [
        "#7\n",
        "n = int(input(\"Enter a number: \"))\n",
        "squares = []\n",
        "\n",
        "for i in range(1, n + 1):\n",
        "    squares.append(i ** 2)\n",
        "\n",
        "print(f\"The first {n} terms of the series are:\", ' '.join(map(str, squares)))"
      ],
      "metadata": {
        "colab": {
          "base_uri": "https://localhost:8080/"
        },
        "id": "gwMWH_bd0VpO",
        "outputId": "99ed3b41-1c66-432d-a785-32a471ffa6e2"
      },
      "execution_count": 29,
      "outputs": [
        {
          "output_type": "stream",
          "name": "stdout",
          "text": [
            "Enter a number: 5\n",
            "The first 5 terms of the series are: 1 4 9 16 25\n"
          ]
        }
      ]
    },
    {
      "cell_type": "code",
      "source": [
        "#8\n",
        "num = int(input(\"Enter a number to see its multiplication table: \"))\n",
        "print(f\"Multiplication table of {num}:\")\n",
        "for i in range(1, 11):\n",
        "    print(f\"{num} x {i} = {num * i}\")"
      ],
      "metadata": {
        "colab": {
          "base_uri": "https://localhost:8080/"
        },
        "id": "H-6Q61n00oaH",
        "outputId": "cbf55154-eea9-4176-a8a7-c1af1c87beca"
      },
      "execution_count": 30,
      "outputs": [
        {
          "output_type": "stream",
          "name": "stdout",
          "text": [
            "Enter a number to see its multiplication table: 5\n",
            "Multiplication table of 5:\n",
            "5 x 1 = 5\n",
            "5 x 2 = 10\n",
            "5 x 3 = 15\n",
            "5 x 4 = 20\n",
            "5 x 5 = 25\n",
            "5 x 6 = 30\n",
            "5 x 7 = 35\n",
            "5 x 8 = 40\n",
            "5 x 9 = 45\n",
            "5 x 10 = 50\n"
          ]
        }
      ]
    },
    {
      "cell_type": "code",
      "source": [
        "#9\n",
        "first_term = 3\n",
        "common_difference = 4\n",
        "\n",
        "num_terms = 8\n",
        "for i in range(num_terms):\n",
        "    current_term = first_term + i * common_difference\n",
        "    print(current_term, end=' ')\n",
        "\n"
      ],
      "metadata": {
        "colab": {
          "base_uri": "https://localhost:8080/"
        },
        "id": "H-XyyB7R1AuI",
        "outputId": "706ead51-2e94-4a35-c426-59ff76bda143"
      },
      "execution_count": 32,
      "outputs": [
        {
          "output_type": "stream",
          "name": "stdout",
          "text": [
            "3 7 11 15 19 23 27 31 "
          ]
        }
      ]
    },
    {
      "cell_type": "code",
      "source": [
        "#10\n",
        "initial_term = 2\n",
        "common_ratio = 3\n",
        "num_terms = 6\n",
        "current_term = initial_term\n",
        "for i in range(num_terms):\n",
        "    print(current_term, end=' ')\n",
        "    current_term *= common_ratio"
      ],
      "metadata": {
        "colab": {
          "base_uri": "https://localhost:8080/"
        },
        "id": "Leo7nL0W1Pgk",
        "outputId": "824e30e0-0a9d-48de-eec8-5174b274138a"
      },
      "execution_count": 33,
      "outputs": [
        {
          "output_type": "stream",
          "name": "stdout",
          "text": [
            "2 6 18 54 162 486 "
          ]
        }
      ]
    },
    {
      "cell_type": "code",
      "source": [
        "#11\n",
        "def positive():\n",
        "  n = int(input(\"Enter a positive integer: \"))\n",
        "  if n <= 0:\n",
        "      print(\"Enter a positive integer greater than zero.\")\n",
        "      return\n",
        "\n",
        "  sum_of_integers = 0\n",
        "  for i in range(1, n + 1):\n",
        "      sum_of_integers += i\n",
        "\n",
        "  print(f\"The sum of all integers from 1 to {n} is {sum_of_integers}\")\n",
        "\n",
        "positive()"
      ],
      "metadata": {
        "colab": {
          "base_uri": "https://localhost:8080/"
        },
        "id": "Ic6Ca6T81cOz",
        "outputId": "c90c06b7-7792-4d0a-b103-37fe68247bed"
      },
      "execution_count": 34,
      "outputs": [
        {
          "output_type": "stream",
          "name": "stdout",
          "text": [
            "Enter a positive integer: 5\n",
            "The sum of all integers from 1 to 5 is 15\n"
          ]
        }
      ]
    },
    {
      "cell_type": "code",
      "source": [
        "#12\n",
        "def positive():\n",
        "    N = int(input(\"Enter a positive integer: \"))\n",
        "    if N <= 0:\n",
        "        print(\"The number entered is not a positive integer. Enter a value greater than zero.\")\n",
        "        return\n",
        "\n",
        "    sum_of_reciprocals = 0.0\n",
        "    for i in range(1, N + 1):\n",
        "        sum_of_reciprocals += 1 / i\n",
        "\n",
        "    print(f\"The sum of reciprocals from 1 to {N} is: {sum_of_reciprocals:.2f}\")\n",
        "\n",
        "\n",
        "positive()"
      ],
      "metadata": {
        "colab": {
          "base_uri": "https://localhost:8080/"
        },
        "id": "YaoyIv0y1xi0",
        "outputId": "7a93eb6e-bd0c-44b2-d0b3-a7c132da04c0"
      },
      "execution_count": 35,
      "outputs": [
        {
          "output_type": "stream",
          "name": "stdout",
          "text": [
            "Enter a positive integer: 5\n",
            "The sum of reciprocals from 1 to 5 is: 2.28\n"
          ]
        }
      ]
    },
    {
      "cell_type": "code",
      "source": [
        "#13\n",
        "total = 0\n",
        "for i in range(5):\n",
        "    number = int(input(\"Enter a number: \"))\n",
        "    total += number\n",
        "\n",
        "print(f\"The final running total is: {total}\")"
      ],
      "metadata": {
        "colab": {
          "base_uri": "https://localhost:8080/"
        },
        "id": "hLPMlNKH2GDT",
        "outputId": "aed44b56-7696-420f-d1bd-10bd40f342b9"
      },
      "execution_count": 37,
      "outputs": [
        {
          "output_type": "stream",
          "name": "stdout",
          "text": [
            "Enter a number: 1\n",
            "Enter a number: 2\n",
            "Enter a number: 3\n",
            "Enter a number: 4\n",
            "Enter a number: 5\n",
            "The final running total is: 15\n"
          ]
        }
      ]
    },
    {
      "cell_type": "code",
      "source": [
        "#14\n",
        "def positive():\n",
        "  try:\n",
        "      n = int(input(\"Enter a positive integer: \"))\n",
        "  except ValueError:\n",
        "      print(\"Invalid input! Please enter a valid integer.\")\n",
        "      return\n",
        "\n",
        "  if n < 0:\n",
        "      print(\"Factorial does not exist for negative numbers.\")\n",
        "  elif n == 0:\n",
        "      print(\"The factorial of 0 is 1.\")\n",
        "  else:\n",
        "      factorial = 1\n",
        "      for i in range(1, n + 1):\n",
        "          factorial *= i\n",
        "      print(f\"The factorial of {n} is {factorial}.\")\n",
        "\n",
        "positive()"
      ],
      "metadata": {
        "colab": {
          "base_uri": "https://localhost:8080/"
        },
        "id": "hBP7f9yN2ZHk",
        "outputId": "272d8a2c-a896-4ce0-940b-5934775a5190"
      },
      "execution_count": 41,
      "outputs": [
        {
          "output_type": "stream",
          "name": "stdout",
          "text": [
            "Enter a positive integer: 5\n",
            "The factorial of 5 is 120.\n"
          ]
        }
      ]
    },
    {
      "cell_type": "code",
      "source": [
        "#15\n",
        "def cal_power(base, exponent):\n",
        "    result = 1\n",
        "    abs_exponent = abs(exponent)\n",
        "\n",
        "    for _ in range(abs_exponent):\n",
        "        result *= base\n",
        "\n",
        "    if exponent < 0:\n",
        "        result = 1 / result\n",
        "\n",
        "    return result\n",
        "\n",
        "def main():\n",
        "    try:\n",
        "        base = float(input(\"Enter the base number: \"))\n",
        "        exponent = int(input(\"Enter the exponent (an integer): \"))\n",
        "    except ValueError:\n",
        "        print(\"Invalid input. Enter numerical values.\")\n",
        "        return\n",
        "\n",
        "    result = cal_power(base, exponent)\n",
        "    print(f\"{base} to the power of {exponent} is {result}\")\n",
        "\n",
        "main()"
      ],
      "metadata": {
        "colab": {
          "base_uri": "https://localhost:8080/"
        },
        "id": "RNcARain2vVV",
        "outputId": "ae3afb2c-e39d-46f5-9433-86466e4acab5"
      },
      "execution_count": 42,
      "outputs": [
        {
          "output_type": "stream",
          "name": "stdout",
          "text": [
            "Enter the base number: 5\n",
            "Enter the exponent (an integer): 2\n",
            "5.0 to the power of 2 is 25.0\n"
          ]
        }
      ]
    }
  ]
}